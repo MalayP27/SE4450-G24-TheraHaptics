{
 "cells": [
  {
   "cell_type": "code",
   "execution_count": 1,
   "id": "0a37a7f3-c0f1-4773-84e6-b954970ce609",
   "metadata": {},
   "outputs": [],
   "source": [
    "import pandas as pd\n",
    "import numpy as np\n",
    "from sklearn.model_selection import train_test_split\n",
    "from sklearn.preprocessing import LabelEncoder, StandardScaler\n",
    "from sklearn.metrics import accuracy_score, classification_report, confusion_matrix\n",
    "import matplotlib.pyplot as plt\n",
    "\n",
    "# Load and merge datasets\n",
    "file_paths = {\n",
    "    \"thumbup\": \"../Data_Extracting/emg_training_data_thumbup_time_series.csv\",\n",
    "    \"fist\": \"../Data_Extracting/emg_training_data_fist_time_series.csv\",\n",
    "}\n",
    "\n",
    "data_frames = []\n",
    "for gesture, path in file_paths.items():\n",
    "    df = pd.read_csv(path)\n",
    "    df[\"gesture\"] = gesture\n",
    "    data_frames.append(df)\n",
    "\n",
    "data = pd.concat(data_frames, ignore_index=True)\n",
    "\n",
    "# Extract features and labels\n",
    "X = data.iloc[:, :-1].values  # Exclude the label column\n",
    "y = data.iloc[:, -1].values   # Label column\n",
    "\n",
    "# Encode labels\n",
    "label_encoder = LabelEncoder()\n",
    "y_encoded = label_encoder.fit_transform(y)\n",
    "\n",
    "# Normalize data\n",
    "scaler = StandardScaler()\n",
    "X_scaled = scaler.fit_transform(X)\n",
    "\n",
    "# Reshape for CNN (samples, time_steps=50, features=6)\n",
    "X_reshaped = X_scaled.reshape(len(X_scaled), 50, 6)\n",
    "\n",
    "# Split into training and testing sets\n",
    "X_train, X_test, y_train, y_test = train_test_split(X_reshaped, y_encoded, test_size=0.2, random_state=42)\n"
   ]
  },
  {
   "cell_type": "code",
   "execution_count": 2,
   "id": "753dcd56-1104-423c-a6b9-710bd9b1a192",
   "metadata": {},
   "outputs": [
    {
     "name": "stdout",
     "output_type": "stream",
     "text": [
      "Random Forest Accuracy: 0.9070\n",
      "SVM Accuracy: 0.9302\n"
     ]
    }
   ],
   "source": [
    "# Alternative Models\n",
    "from sklearn.ensemble import RandomForestClassifier\n",
    "from sklearn.svm import SVC\n",
    "\n",
    "# Train Random Forest Classifier\n",
    "rf_model = RandomForestClassifier(n_estimators=100, random_state=42)\n",
    "rf_model.fit(X_train.reshape(len(X_train), -1), y_train)\n",
    "y_rf_pred = rf_model.predict(X_test.reshape(len(X_test), -1))\n",
    "print(f\"Random Forest Accuracy: {accuracy_score(y_test, y_rf_pred):.4f}\")\n",
    "\n",
    "# Train SVM Classifier\n",
    "svm_model = SVC(kernel='rbf')\n",
    "svm_model.fit(X_train.reshape(len(X_train), -1), y_train)\n",
    "y_svm_pred = svm_model.predict(X_test.reshape(len(X_test), -1))\n",
    "print(f\"SVM Accuracy: {accuracy_score(y_test, y_svm_pred):.4f}\")"
   ]
  },
  {
   "cell_type": "code",
   "execution_count": null,
   "id": "b899a91a-c9fa-426a-890a-bc5e88ffaa4a",
   "metadata": {},
   "outputs": [],
   "source": []
  }
 ],
 "metadata": {
  "kernelspec": {
   "display_name": "Python 3 (ipykernel)",
   "language": "python",
   "name": "python3"
  },
  "language_info": {
   "codemirror_mode": {
    "name": "ipython",
    "version": 3
   },
   "file_extension": ".py",
   "mimetype": "text/x-python",
   "name": "python",
   "nbconvert_exporter": "python",
   "pygments_lexer": "ipython3",
   "version": "3.12.6"
  }
 },
 "nbformat": 4,
 "nbformat_minor": 5
}

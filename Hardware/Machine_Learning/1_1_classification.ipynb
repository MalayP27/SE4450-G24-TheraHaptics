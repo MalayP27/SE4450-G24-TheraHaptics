{
 "cells": [
  {
   "cell_type": "code",
   "execution_count": 9,
   "id": "3c9dd322-618e-4f48-b420-05241c3ff7aa",
   "metadata": {},
   "outputs": [],
   "source": [
    "import pandas as pd\n",
    "import numpy as np\n",
    "import os"
   ]
  },
  {
   "cell_type": "code",
   "execution_count": 10,
   "id": "61a87316-4b28-4bd2-a4f8-08cdc013954a",
   "metadata": {},
   "outputs": [],
   "source": [
    "#print(\"Current working directory:\", os.getcwd())"
   ]
  },
  {
   "cell_type": "code",
   "execution_count": 11,
   "id": "62e00d30-0e78-4498-aeb8-ffd540445edc",
   "metadata": {},
   "outputs": [
    {
     "data": {
      "text/html": [
       "<div>\n",
       "<style scoped>\n",
       "    .dataframe tbody tr th:only-of-type {\n",
       "        vertical-align: middle;\n",
       "    }\n",
       "\n",
       "    .dataframe tbody tr th {\n",
       "        vertical-align: top;\n",
       "    }\n",
       "\n",
       "    .dataframe thead th {\n",
       "        text-align: right;\n",
       "    }\n",
       "</style>\n",
       "<table border=\"1\" class=\"dataframe\">\n",
       "  <thead>\n",
       "    <tr style=\"text-align: right;\">\n",
       "      <th></th>\n",
       "      <th>sensor1</th>\n",
       "      <th>sensor2</th>\n",
       "      <th>sensor3</th>\n",
       "    </tr>\n",
       "  </thead>\n",
       "  <tbody>\n",
       "    <tr>\n",
       "      <th>0</th>\n",
       "      <td>1060</td>\n",
       "      <td>900</td>\n",
       "      <td>1100</td>\n",
       "    </tr>\n",
       "    <tr>\n",
       "      <th>1</th>\n",
       "      <td>1072</td>\n",
       "      <td>900</td>\n",
       "      <td>1100</td>\n",
       "    </tr>\n",
       "    <tr>\n",
       "      <th>2</th>\n",
       "      <td>1073</td>\n",
       "      <td>900</td>\n",
       "      <td>1100</td>\n",
       "    </tr>\n",
       "    <tr>\n",
       "      <th>3</th>\n",
       "      <td>1072</td>\n",
       "      <td>900</td>\n",
       "      <td>1100</td>\n",
       "    </tr>\n",
       "    <tr>\n",
       "      <th>4</th>\n",
       "      <td>1090</td>\n",
       "      <td>900</td>\n",
       "      <td>1100</td>\n",
       "    </tr>\n",
       "  </tbody>\n",
       "</table>\n",
       "</div>"
      ],
      "text/plain": [
       "   sensor1  sensor2  sensor3\n",
       "0     1060      900     1100\n",
       "1     1072      900     1100\n",
       "2     1073      900     1100\n",
       "3     1072      900     1100\n",
       "4     1090      900     1100"
      ]
     },
     "execution_count": 11,
     "metadata": {},
     "output_type": "execute_result"
    }
   ],
   "source": [
    "df = pd.read_csv('../Data_Extracting/training_data.csv')\n",
    "df.head()"
   ]
  },
  {
   "cell_type": "code",
   "execution_count": 12,
   "id": "672dff33-93d6-4346-a0df-e7e1826e47c1",
   "metadata": {},
   "outputs": [],
   "source": [
    "X = df.drop(columns= ['sensor2', 'sensor3'])\n",
    "sensor = df['sensor1']"
   ]
  },
  {
   "cell_type": "code",
   "execution_count": 13,
   "id": "3f2b5efb-1709-46ae-a5ff-5746ce321f56",
   "metadata": {},
   "outputs": [],
   "source": [
    "# Classification algorithm, perhaps clustering, or logistic regression as a beginning. SVM"
   ]
  },
  {
   "cell_type": "code",
   "execution_count": 15,
   "id": "b8252132-baf7-4a2c-8798-f5b540b8395b",
   "metadata": {},
   "outputs": [],
   "source": [
    "variance = np.var(sensor)\n",
    "mean = np.mean(sensor)\n",
    "std_dev = np.std(sensor)\n",
    "\n",
    "features = np.array([variance, mean, std_dev])"
   ]
  },
  {
   "cell_type": "code",
   "execution_count": 16,
   "id": "2c1a4f27-002e-4736-9991-90712a73a3c8",
   "metadata": {},
   "outputs": [],
   "source": [
    "from sklearn.model_selection import train_test_split\n",
    "from sklearn.svm import SVC\n",
    "\n"
   ]
  },
  {
   "cell_type": "code",
   "execution_count": null,
   "id": "082d432a-30a3-4634-a101-6c35926645cb",
   "metadata": {},
   "outputs": [],
   "source": []
  }
 ],
 "metadata": {
  "kernelspec": {
   "display_name": "Python 3 (ipykernel)",
   "language": "python",
   "name": "python3"
  },
  "language_info": {
   "codemirror_mode": {
    "name": "ipython",
    "version": 3
   },
   "file_extension": ".py",
   "mimetype": "text/x-python",
   "name": "python",
   "nbconvert_exporter": "python",
   "pygments_lexer": "ipython3",
   "version": "3.12.6"
  }
 },
 "nbformat": 4,
 "nbformat_minor": 5
}
